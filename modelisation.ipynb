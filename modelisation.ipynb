{
 "cells": [
  {
   "cell_type": "markdown",
   "id": "ongoing-translator",
   "metadata": {},
   "source": [
    "# Modélisation Seattle \n",
    "## OpenClassrooms Projet 4 - Hugo REBEIX\n",
    "\n",
    "<img src=\"presentation/img/logo_seattle.jpg\" style=\"height:100px\">"
   ]
  },
  {
   "cell_type": "markdown",
   "id": "cloudy-shanghai",
   "metadata": {},
   "source": [
    "# Sommaire"
   ]
  },
  {
   "cell_type": "markdown",
   "id": "clear-modern",
   "metadata": {},
   "source": [
    "### [Bibliothèques](#1_bibli)\n",
    "### [Fonctions](#1_funcs)\n",
    "### [Données](#1_donnees)\n",
    "### [Cibles](#1_tragets)\n",
    "### [Préparation GridSearch](#1_GS_params)\n",
    "\n",
    "### [Entrainement](#1_training)\n",
    "- [Cibles Brutes](#2_raw_targets)\n",
    "- [Cibles Normalisées](#2_norm_targets)\n",
    "- [Conclusions](#2_conclusions_train)\n",
    "\n",
    "### [Refit de XGBoost](#1_refit)\n",
    "- [Avec EnergyStarScore](#2_refit_ESS)\n",
    "- [Sans EnergyStarScore](#2_refit_no_ESS)\n",
    "- [Conclusions du Refit](#2_refit_conclusions)\n",
    "\n",
    "### [Temps d'entrainement](#1_train_time)\n",
    "\n",
    "### [Conclusion générale](#1_conclusion)"
   ]
  },
  {
   "cell_type": "markdown",
   "id": "gross-locking",
   "metadata": {},
   "source": [
    "<a id='1_bibli'></a>"
   ]
  },
  {
   "cell_type": "markdown",
   "id": "inappropriate-entity",
   "metadata": {},
   "source": [
    "# Import de bibliothèques 📚"
   ]
  },
  {
   "cell_type": "code",
   "execution_count": 3,
   "id": "multiple-powell",
   "metadata": {
    "_cell_guid": "135e8ac5-ce46-4a5f-b205-13f827ef33b8",
    "_execution_state": "idle",
    "_uuid": "fc664fbe27561a3697d0210921107b0e14b7d211"
   },
   "outputs": [],
   "source": [
    "import pandas as pd\n",
    "import numpy as np\n",
    "import math\n",
    "\n",
    "import os\n",
    "import time\n",
    "import json\n",
    "import copy\n",
    "\n",
    "from sklearn.linear_model import ElasticNet, Lasso, LinearRegression\n",
    "from sklearn.ensemble import RandomForestRegressor,  GradientBoostingRegressor, VotingRegressor\n",
    "from sklearn.kernel_ridge import KernelRidge\n",
    "from sklearn.pipeline import make_pipeline\n",
    "from sklearn.preprocessing import RobustScaler\n",
    "from sklearn.base import BaseEstimator, TransformerMixin, RegressorMixin, clone\n",
    "from sklearn.model_selection import KFold, cross_val_score, train_test_split, GridSearchCV, cross_validate\n",
    "from sklearn.metrics import mean_squared_error, pairwise, r2_score\n",
    "from sklearn.dummy import DummyRegressor\n",
    "from sklearn.svm import SVR\n",
    "from xgboost import XGBRegressor\n",
    "# from lightgbm import LGBMRegressor\n",
    "\n",
    "import mlflow\n",
    "# import lightgbm as lgb # BUG IMPORT  --> importer avec sklearn"
   ]
  },
  {
   "cell_type": "markdown",
   "id": "drawn-resistance",
   "metadata": {},
   "source": [
    "<a id='1_funcs'></a>"
   ]
  },
  {
   "cell_type": "markdown",
   "id": "nuclear-resident",
   "metadata": {},
   "source": [
    "# Fonctions ⚙️"
   ]
  },
  {
   "cell_type": "code",
   "execution_count": 4,
   "id": "retained-textbook",
   "metadata": {},
   "outputs": [],
   "source": [
    "def get_naive_baseline(target):\n",
    "    dum_rgr = DummyRegressor(strategy=\"mean\")\n",
    "    \n",
    "    dum_rgr.fit(data_train.drop(columns=[target]), data_train[target])\n",
    "    y_pred = dum_rgr.predict(data_test.drop(columns=[target]))\n",
    "    \n",
    "    r2 = r2_score(data_test[target], y_pred)\n",
    "    mse = mean_squared_error(data_test[target], y_pred)\n",
    "    #Score R²\n",
    "    print(\"Score R² du dummy Regressor:\\n{}\\n\".format(round(r2, 4)))\n",
    "    #Mean Squared Error\n",
    "    print(\"Root Mean Squared Error du dummy Regressor:\\n{}\\n\".format(math.sqrt(mse)))\n",
    "    dummy_scores = {\"r2_score\": r2, \"mean_squared_error\": mse}\n",
    "    return dummy_scores"
   ]
  },
  {
   "cell_type": "code",
   "execution_count": 5,
   "id": "lucky-porcelain",
   "metadata": {},
   "outputs": [],
   "source": [
    "def launch_models_CV(\n",
    "                    data_train,\n",
    "                    target,\n",
    "                    models_params, \n",
    "                    default_mode=False, \n",
    "                    folds=5, \n",
    "                    scorings='neg_root_mean_squared_error',\n",
    "                    favorite_scoring=None,\n",
    "                    comment=None,\n",
    "                    n_jobs=-1):\n",
    "\n",
    "    # Iterate on model types\n",
    "    for model_type in models_params.keys():\n",
    "        # choose target\n",
    "        if 'SiteEnergyUse(kBtu)' in target:\n",
    "            mlflow.set_experiment(model_type + '_' + 'energy')\n",
    "        if 'TotalGHGEmissions' in target:\n",
    "            mlflow.set_experiment(model_type + '_' + 'emissions')\n",
    "        \n",
    "        with mlflow.start_run(run_name=comment):\n",
    "            \n",
    "            #Prepare training\n",
    "            estimator = models_params[model_type]['estimator']\n",
    "            \n",
    "            if not default_mode:\n",
    "                \n",
    "                #Get parameters grid\n",
    "                \n",
    "                params = models_params[model_type]['params']\n",
    "                regressor = GridSearchCV(\n",
    "                    estimator=estimator, \n",
    "                    param_grid=params, \n",
    "                    scoring=scorings,\n",
    "                    n_jobs=n_jobs,\n",
    "                    cv=folds,\n",
    "                    refit=favorite_scoring\n",
    "                    )\n",
    "\n",
    "                #Saving gridsearch params in MlFlow Artifact\n",
    "                    #Deleting estimators object from the artifact (json incompatible)\n",
    "                models_params_artifact = copy.deepcopy(models_params)\n",
    "                for model_type_artifact in models_params_artifact.keys():\n",
    "                    del models_params_artifact[model_type_artifact]['estimator']\n",
    "                with open('models_params.json', 'w') as fp:\n",
    "                    json.dump(models_params_artifact, fp)\n",
    "                \n",
    "                mlflow.log_artifact('models_params.json')\n",
    "\n",
    "                #Training\n",
    "                print('Start training of {} with GridSearch and CV'.format(model_type))\n",
    "                start = time.time()\n",
    "                \n",
    "                regressor.fit(\n",
    "                    data_train.drop(columns=[target]),\n",
    "                    data_train[target])\n",
    "                \n",
    "                elapsed = time.time() - start\n",
    "                \n",
    "                best_estimator = regressor.best_estimator_\n",
    "                results = pd.DataFrame(regressor.cv_results_)\n",
    "                \n",
    "                mlflow.sklearn.log_model(best_estimator, \"best_model\")\n",
    "                \n",
    "                # Get results\n",
    "                results_best_estimator = results[results['rank_test_{}'.format(favorite_scoring)] == 1]\n",
    "                for scoring in scorings:\n",
    "                    mlflow.log_metric(scoring.strip('neg_'), abs(results_best_estimator['mean_test_{}'.format(scoring)].values[0]))\n",
    "                    print(scoring.strip('neg_') + ' : ', abs(results_best_estimator['mean_test_{}'.format(scoring)].values[0]))\n",
    "                mlflow.log_metric('training_time', elapsed)\n",
    "                \n",
    "\n",
    "                for param, value in regressor.best_params_.items():\n",
    "                    mlflow.log_param(param, value)\n",
    "                mlflow.log_param(\"folds\", folds)\n",
    "                \n",
    "                print('Successful training and logging of {}, in {} seconds\\n\\n'.format(model_type, round(elapsed)))\n",
    "                 \n",
    "                \n",
    "            # Default mode\n",
    "            else:\n",
    "                print('Start training of {} (default mode)'.format(model_type))\n",
    "                start = time.time()\n",
    "                results = cross_validate(\n",
    "                    estimator,\n",
    "                    data_train.drop(columns=[target]),\n",
    "                    data_train[target],\n",
    "                    scoring=scorings,\n",
    "                    cv=folds,\n",
    "                    n_jobs=n_jobs,\n",
    "                    return_estimator=True\n",
    "                    )\n",
    "                elapsed = time.time() - start\n",
    "                \n",
    "                for scoring in scorings:\n",
    "                    print(scoring.strip('neg_'), abs(results['test_{}'.format(scoring)].mean()))\n",
    "                    mlflow.log_metric(scoring.strip('neg_'), abs(results['test_{}'.format(scoring)].mean()))\n",
    "                mlflow.log_metric('training_time', elapsed)\n",
    "                \n",
    "                for param, value in results['estimator'][0].get_params().items():\n",
    "                    if param in models_params[model_type]['params'].keys():\n",
    "                        mlflow.log_param(param, value)\n",
    "                mlflow.log_param(\"folds\", folds)\n",
    "                print('Successful training and logging of {}, in {} seconds (Default Mode)\\n\\n'.format(model_type, round(elapsed)))\n",
    "                \n",
    "            mlflow.end_run()"
   ]
  },
  {
   "cell_type": "markdown",
   "id": "automated-defendant",
   "metadata": {},
   "source": [
    "<a id='1_donnees'></a>"
   ]
  },
  {
   "cell_type": "markdown",
   "id": "painful-indianapolis",
   "metadata": {},
   "source": [
    "# Données 🎁"
   ]
  },
  {
   "cell_type": "code",
   "execution_count": 6,
   "id": "collective-concord",
   "metadata": {},
   "outputs": [
    {
     "name": "stdout",
     "output_type": "stream",
     "text": [
      "Sans ESS :  (6509, 98)\n",
      "Avec ESS + dropna (4959, 98)\n"
     ]
    }
   ],
   "source": [
    "data = pd.read_csv('data/data_full_post_analisis.csv')\n",
    "energyScore = data.ENERGYSTARScore # Nous traiterons cette données plus tard\n",
    "\n",
    "data.drop(columns=['Unnamed: 0', 'CouncilDistrictCode', 'DataYear'], inplace=True)\n",
    "print(\"Sans ESS : \", data.shape)\n",
    "data.dropna(inplace=True)\n",
    "print(\"Avec ESS + dropna\", data.shape)\n",
    "data.set_index('OSEBuildingID', inplace=True)\n",
    "\n",
    "\n",
    "data = data[list(data.dtypes[data.dtypes != \"object\"].index)]"
   ]
  },
  {
   "cell_type": "markdown",
   "id": "decent-korean",
   "metadata": {},
   "source": [
    "<a id='1_targets'></a>"
   ]
  },
  {
   "cell_type": "markdown",
   "id": "lucky-carolina",
   "metadata": {},
   "source": [
    "## Cibles 🎯\n",
    "- SiteEnergyUse(kBtu)\n",
    "- TotalGHGEmissions"
   ]
  },
  {
   "cell_type": "code",
   "execution_count": 7,
   "id": "numerical-conversation",
   "metadata": {},
   "outputs": [],
   "source": [
    "target_energy = 'SiteEnergyUse(kBtu)'\n",
    "target_emissions = 'TotalGHGEmissions'\n",
    "\n",
    "target_energy_norm = target_energy + 'Norm'\n",
    "target_emissions_norm = target_emissions + 'Norm'\n",
    "\n",
    "# Attention retirer colonne NORM, faire deux DF un avec norm et l'autre sans\n"
   ]
  },
  {
   "cell_type": "markdown",
   "id": "interesting-arrest",
   "metadata": {},
   "source": [
    "#### Retirons les colonnes qui sont équivalentes aux targets:\n",
    "\"Votre prédiction se basera sur les données déclaratives du permis d'exploitation commerciale (taille et usage des bâtiments, mention de travaux récents, date de construction..)\""
   ]
  },
  {
   "cell_type": "code",
   "execution_count": 8,
   "id": "proud-dealer",
   "metadata": {},
   "outputs": [],
   "source": [
    "data.drop(columns=['SiteEUI(kBtu/sf)', 'SiteEUIWN(kBtu/sf)',\n",
    "       'SourceEUI(kBtu/sf)', 'SourceEUIWN(kBtu/sf)', \n",
    "       'SiteEnergyUseWN(kBtu)', 'SteamUse(kBtu)', 'Electricity(kWh)',\n",
    "       'Electricity(kBtu)', 'NaturalGas(therms)', 'NaturalGas(kBtu)',\n",
    "       'GHGEmissionsIntensity'], inplace=True)"
   ]
  },
  {
   "cell_type": "markdown",
   "id": "partial-sucking",
   "metadata": {},
   "source": [
    "<a id='1_GS_params'></a>"
   ]
  },
  {
   "cell_type": "markdown",
   "id": "different-dairy",
   "metadata": {},
   "source": [
    "# Grid Search Params 🔎"
   ]
  },
  {
   "cell_type": "code",
   "execution_count": 9,
   "id": "junior-accused",
   "metadata": {},
   "outputs": [],
   "source": [
    "models_params = {  \n",
    "    'random_forest': {\n",
    "        'params': {\n",
    "           'max_depth' : [5,10,20],\n",
    "           'max_features' : ['auto', 'log2', 'sqrt'],\n",
    "           'min_samples_leaf': [1, 2, 4],\n",
    "           'min_samples_split': [2, 5, 10],\n",
    "           'random_state': [41]\n",
    "           },\n",
    "        'estimator': RandomForestRegressor(),\n",
    "    },\n",
    "                        \n",
    "    'gradient_boosting': {\n",
    "         'params': {\n",
    "             'max_depth' : [5,10,20],\n",
    "             'learning_rate' : [0.05, 0.1, 0.2],\n",
    "             'n_iter_no_change': [None, 10],\n",
    "             'random_state': [41]\n",
    "             },\n",
    "         'estimator': GradientBoostingRegressor()\n",
    "    },\n",
    "                 \n",
    "                 \n",
    "    'xgboost': {\n",
    "        'params':{\n",
    "            'max_depth' : [5,10,20],\n",
    "            'learning_rate' : [0.05, 0.1, 0.2],\n",
    "            'reg_alpha': [0.1, 0.01, 1],\n",
    "            'min_child_weight': [1,5,10],\n",
    "            'random_state': [41]\n",
    "            },\n",
    "        'estimator': XGBRegressor()\n",
    "    },\n",
    "\n",
    "   'lasso': {\n",
    "       'params': {\n",
    "           'alpha': [0.001, 0.01, 0.1],\n",
    "           'random_state': [41],\n",
    "           'max_iter': [10000]\n",
    "           },\n",
    "       'estimator' : Lasso()\n",
    "    },\n",
    "    \n",
    "    'elastic_net': {\n",
    "        'params': {\n",
    "            'alpha' : [0.0001, 0.001, 0.01, 0.1],\n",
    "            'l1_ratio' : [0.5, 0.8, 0.2],\n",
    "            'max_iter': [10000]\n",
    "            },\n",
    "        'estimator': ElasticNet()\n",
    "    },\n",
    "                 \n",
    "    'kernel_ridge': {\n",
    "        'params': {\n",
    "            'alpha': [0.001, 0.01, 0.1],\n",
    "            'kernel': ['chi2', 'linear', 'polynomial'],\n",
    "            \"degree\": [2,3,4]\n",
    "            },\n",
    "        'estimator': KernelRidge()\n",
    "    },\n",
    "    \n",
    "    'svr':{\n",
    "        'params':{\n",
    "            \"kernel\":['linear', 'poly', 'rbf', 'sigmoid'],\n",
    "            \"C\":[0.1, 1, 10],\n",
    "            'epsilon':[0.05,0.1,0.3],\n",
    "            'max_iter': [10000]\n",
    "        },\n",
    "        'estimator': SVR()\n",
    "    }\n",
    "}"
   ]
  },
  {
   "cell_type": "markdown",
   "id": "innocent-sphere",
   "metadata": {},
   "source": [
    "<a id='1_training'></a>"
   ]
  },
  {
   "cell_type": "markdown",
   "id": "embedded-treatment",
   "metadata": {},
   "source": [
    "# Entrainement 🏋️‍♀️"
   ]
  },
  {
   "cell_type": "markdown",
   "id": "respiratory-pitch",
   "metadata": {},
   "source": [
    "Stratégie : \n",
    "\n",
    "<img src=\"plots_storage/strategie.png\" style=\"height:250px\">"
   ]
  },
  {
   "cell_type": "markdown",
   "id": "valuable-miniature",
   "metadata": {},
   "source": [
    "<a id='2_raw_targets'></a>"
   ]
  },
  {
   "cell_type": "markdown",
   "id": "successful-digest",
   "metadata": {},
   "source": [
    "## Entrainement avec les cibles brutes 🍣"
   ]
  },
  {
   "cell_type": "code",
   "execution_count": 10,
   "id": "useful-hearing",
   "metadata": {},
   "outputs": [],
   "source": [
    "data_raw_targets = data.drop(columns=[target_energy_norm, target_emissions_norm])"
   ]
  },
  {
   "cell_type": "code",
   "execution_count": 11,
   "id": "pretty-secret",
   "metadata": {},
   "outputs": [],
   "source": [
    "data_raw_targets_energy = data_raw_targets.drop(columns=[target_emissions])\n",
    "data_train, data_test = train_test_split(data_raw_targets_energy, train_size=0.7, random_state=41)"
   ]
  },
  {
   "cell_type": "markdown",
   "id": "unlikely-bachelor",
   "metadata": {},
   "source": [
    "### Energy ⚡"
   ]
  },
  {
   "cell_type": "markdown",
   "id": "behind-quantity",
   "metadata": {},
   "source": [
    "#### Baseline Naïve"
   ]
  },
  {
   "cell_type": "code",
   "execution_count": 12,
   "id": "seeing-relay",
   "metadata": {},
   "outputs": [
    {
     "name": "stdout",
     "output_type": "stream",
     "text": [
      "Score R² du dummy Regressor:\n",
      "-0.0011\n",
      "\n",
      "Root Mean Squared Error du dummy Regressor:\n",
      "8022984.60006515\n",
      "\n"
     ]
    }
   ],
   "source": [
    "dummy_scores_energy_raw = get_naive_baseline(target_energy)"
   ]
  },
  {
   "cell_type": "markdown",
   "id": "shaped-voice",
   "metadata": {},
   "source": [
    "#### GridSearch"
   ]
  },
  {
   "cell_type": "code",
   "execution_count": 11,
   "id": "oriental-namibia",
   "metadata": {},
   "outputs": [
    {
     "name": "stdout",
     "output_type": "stream",
     "text": [
      "Start training of random_forest with GridSearch and CV\n",
      "root_mean_squared_error :  3787355.5709763537\n",
      "r2 :  0.8284348437379956\n",
      "Successful training and logging of random_forest, in 38 seconds\n",
      "\n",
      "\n",
      "Start training of gradient_boosting with GridSearch and CV\n",
      "root_mean_squared_error :  3496545.8699609437\n",
      "r2 :  0.8540625209779599\n",
      "Successful training and logging of gradient_boosting, in 29 seconds\n",
      "\n",
      "\n",
      "Start training of xgboost with GridSearch and CV\n",
      "root_mean_squared_error :  3505387.6844208813\n",
      "r2 :  0.8537859196842699\n",
      "Successful training and logging of xgboost, in 150 seconds\n",
      "\n",
      "\n",
      "Start training of lasso with GridSearch and CV\n"
     ]
    },
    {
     "name": "stderr",
     "output_type": "stream",
     "text": [
      "C:\\Users\\S053567\\Anaconda3\\lib\\site-packages\\sklearn\\linear_model\\_coordinate_descent.py:529: ConvergenceWarning: Objective did not converge. You might want to increase the number of iterations. Duality gap: 1.2757244602528064e+16, tolerance: 29450687607149.59\n",
      "  model = cd_fast.enet_coordinate_descent(\n"
     ]
    },
    {
     "name": "stdout",
     "output_type": "stream",
     "text": [
      "root_mean_squared_error :  4766104.170804801\n",
      "r2 :  0.7025370207744152\n",
      "Successful training and logging of lasso, in 11 seconds\n",
      "\n",
      "\n",
      "Start training of elastic_net with GridSearch and CV\n"
     ]
    },
    {
     "name": "stderr",
     "output_type": "stream",
     "text": [
      "C:\\Users\\S053567\\Anaconda3\\lib\\site-packages\\sklearn\\linear_model\\_coordinate_descent.py:529: ConvergenceWarning: Objective did not converge. You might want to increase the number of iterations. Duality gap: 3.2248518446541412e+16, tolerance: 29450687607149.59\n",
      "  model = cd_fast.enet_coordinate_descent(\n"
     ]
    },
    {
     "name": "stdout",
     "output_type": "stream",
     "text": [
      "root_mean_squared_error :  4673807.433483823\n",
      "r2 :  0.7246551277955566\n",
      "Successful training and logging of elastic_net, in 30 seconds\n",
      "\n",
      "\n",
      "Start training of kernel_ridge with GridSearch and CV\n"
     ]
    },
    {
     "name": "stderr",
     "output_type": "stream",
     "text": [
      "C:\\Users\\S053567\\Anaconda3\\lib\\site-packages\\sklearn\\linear_model\\_ridge.py:190: UserWarning: Singular matrix in solving dual problem. Using least-squares solution instead.\n",
      "  warnings.warn(\"Singular matrix in solving dual problem. Using \"\n"
     ]
    },
    {
     "name": "stdout",
     "output_type": "stream",
     "text": [
      "root_mean_squared_error :  3806138.619182693\n",
      "r2 :  0.8173761272855532\n",
      "Successful training and logging of kernel_ridge, in 177 seconds\n",
      "\n",
      "\n",
      "Start training of svr with GridSearch and CV\n",
      "root_mean_squared_error :  7988136.133380897\n",
      "r2 :  0.23209583628043437\n",
      "Successful training and logging of svr, in 18 seconds\n",
      "\n",
      "\n"
     ]
    },
    {
     "name": "stderr",
     "output_type": "stream",
     "text": [
      "C:\\Users\\S053567\\Anaconda3\\lib\\site-packages\\sklearn\\svm\\_base.py:246: ConvergenceWarning: Solver terminated early (max_iter=10000).  Consider pre-processing your data with StandardScaler or MinMaxScaler.\n",
      "  warnings.warn('Solver terminated early (max_iter=%i).'\n"
     ]
    }
   ],
   "source": [
    "launch_models_CV(\n",
    "    data_train,\n",
    "    target_energy,\n",
    "    models_params, \n",
    "    default_mode=False,\n",
    "    folds=3, \n",
    "    scorings=['neg_root_mean_squared_error', 'r2'],\n",
    "    favorite_scoring='neg_root_mean_squared_error',\n",
    "    comment='Grid Search CV norm Targets',\n",
    "    n_jobs=-1)"
   ]
  },
  {
   "cell_type": "markdown",
   "id": "informal-mozambique",
   "metadata": {},
   "source": [
    "#### Défaut CV"
   ]
  },
  {
   "cell_type": "code",
   "execution_count": 12,
   "id": "classical-essex",
   "metadata": {},
   "outputs": [
    {
     "name": "stdout",
     "output_type": "stream",
     "text": [
      "Start training of random_forest (default mode)\n",
      "root_mean_squared_error 3707687.8416564264\n",
      "r2 0.8363947936983442\n",
      "Successful training and logging of random_forest, in 3 seconds (Default Mode)\n",
      "\n",
      "\n",
      "Start training of gradient_boosting (default mode)\n",
      "root_mean_squared_error 3554097.954457966\n",
      "r2 0.8481204641631255\n",
      "Successful training and logging of gradient_boosting, in 1 seconds (Default Mode)\n",
      "\n",
      "\n",
      "Start training of xgboost (default mode)\n",
      "root_mean_squared_error 3764017.4085265566\n",
      "r2 0.8307418306464806\n",
      "Successful training and logging of xgboost, in 1 seconds (Default Mode)\n",
      "\n",
      "\n",
      "Start training of lasso (default mode)\n",
      "root_mean_squared_error 4766091.7328449795\n",
      "r2 0.7025387915423122\n",
      "Successful training and logging of lasso, in 0 seconds (Default Mode)\n",
      "\n",
      "\n",
      "Start training of elastic_net (default mode)\n",
      "root_mean_squared_error 5575384.764665131\n",
      "r2 0.6209635045615136\n",
      "Successful training and logging of elastic_net, in 0 seconds (Default Mode)\n",
      "\n",
      "\n",
      "Start training of kernel_ridge (default mode)\n",
      "root_mean_squared_error 4700089.34629172\n",
      "r2 0.7178428875200003\n",
      "Successful training and logging of kernel_ridge, in 0 seconds (Default Mode)\n",
      "\n",
      "\n",
      "Start training of svr (default mode)\n",
      "root_mean_squared_error 9494666.128918642\n",
      "r2 0.08499832530873601\n",
      "Successful training and logging of svr, in 1 seconds (Default Mode)\n",
      "\n",
      "\n"
     ]
    }
   ],
   "source": [
    "launch_models_CV(\n",
    "    data_train,\n",
    "    target_energy,\n",
    "    models_params, \n",
    "    default_mode=True,\n",
    "    folds=3, \n",
    "    scorings=['neg_root_mean_squared_error', 'r2'],\n",
    "    favorite_scoring='neg_root_mean_squared_error',\n",
    "    comment='Default mode CV Raw Targets',\n",
    "    n_jobs=-1)"
   ]
  },
  {
   "cell_type": "markdown",
   "id": "focused-community",
   "metadata": {},
   "source": [
    "### Emissions 🌋"
   ]
  },
  {
   "cell_type": "code",
   "execution_count": 14,
   "id": "suspected-guess",
   "metadata": {},
   "outputs": [],
   "source": [
    "data_raw_targets_emissions = data_raw_targets.drop(columns=[target_energy])\n",
    "data_train, data_test = train_test_split(data_raw_targets_emissions, train_size=0.7, random_state=41)"
   ]
  },
  {
   "cell_type": "markdown",
   "id": "relative-concept",
   "metadata": {},
   "source": [
    "#### Baseline Naïve"
   ]
  },
  {
   "cell_type": "code",
   "execution_count": 15,
   "id": "naked-primary",
   "metadata": {},
   "outputs": [
    {
     "name": "stdout",
     "output_type": "stream",
     "text": [
      "Score R² du dummy Regressor:\n",
      "-0.0058\n",
      "\n",
      "Root Mean Squared Error du dummy Regressor:\n",
      "175.21735155185456\n",
      "\n"
     ]
    }
   ],
   "source": [
    "dummy_scores_emissions_raw = get_naive_baseline(target_emissions)"
   ]
  },
  {
   "cell_type": "markdown",
   "id": "suffering-activity",
   "metadata": {},
   "source": [
    "#### GridSearch"
   ]
  },
  {
   "cell_type": "code",
   "execution_count": 15,
   "id": "verified-navigation",
   "metadata": {},
   "outputs": [
    {
     "name": "stdout",
     "output_type": "stream",
     "text": [
      "Start training of random_forest with GridSearch and CV\n",
      "root_mean_squared_error :  141.57169318735612\n",
      "r2 :  0.699660239264849\n",
      "Successful training and logging of random_forest, in 43 seconds\n",
      "\n",
      "\n",
      "Start training of gradient_boosting with GridSearch and CV\n",
      "root_mean_squared_error :  154.00215877057698\n",
      "r2 :  0.5956488843542401\n",
      "Successful training and logging of gradient_boosting, in 27 seconds\n",
      "\n",
      "\n",
      "Start training of xgboost with GridSearch and CV\n",
      "root_mean_squared_error :  135.92599176090337\n",
      "r2 :  0.7065354486670213\n",
      "Successful training and logging of xgboost, in 133 seconds\n",
      "\n",
      "\n",
      "Start training of lasso with GridSearch and CV\n",
      "root_mean_squared_error :  184.3265073319852\n",
      "r2 :  0.42644813487867905\n",
      "Successful training and logging of lasso, in 3 seconds\n",
      "\n",
      "\n",
      "Start training of elastic_net with GridSearch and CV\n",
      "root_mean_squared_error :  181.27851281490226\n",
      "r2 :  0.4678954107372995\n",
      "Successful training and logging of elastic_net, in 12 seconds\n",
      "\n",
      "\n",
      "Start training of kernel_ridge with GridSearch and CV\n"
     ]
    },
    {
     "name": "stderr",
     "output_type": "stream",
     "text": [
      "C:\\Users\\S053567\\Anaconda3\\lib\\site-packages\\sklearn\\linear_model\\_ridge.py:190: UserWarning: Singular matrix in solving dual problem. Using least-squares solution instead.\n",
      "  warnings.warn(\"Singular matrix in solving dual problem. Using \"\n"
     ]
    },
    {
     "name": "stdout",
     "output_type": "stream",
     "text": [
      "root_mean_squared_error :  144.3332900582778\n",
      "r2 :  0.6652289681933299\n",
      "Successful training and logging of kernel_ridge, in 168 seconds\n",
      "\n",
      "\n",
      "Start training of svr with GridSearch and CV\n",
      "root_mean_squared_error :  236.92627738306294\n",
      "r2 :  0.15962371622620738\n",
      "Successful training and logging of svr, in 17 seconds\n",
      "\n",
      "\n"
     ]
    }
   ],
   "source": [
    "launch_models_CV(\n",
    "    data_train,\n",
    "    target_emissions,\n",
    "    models_params, \n",
    "    default_mode=False,\n",
    "    folds=3, \n",
    "    scorings=['neg_root_mean_squared_error', 'r2'],\n",
    "    favorite_scoring='neg_root_mean_squared_error',\n",
    "    comment='Grid Search CV Raw Targets ESS',\n",
    "    n_jobs=-1)"
   ]
  },
  {
   "cell_type": "markdown",
   "id": "federal-comment",
   "metadata": {},
   "source": [
    "#### Défaut CV"
   ]
  },
  {
   "cell_type": "code",
   "execution_count": 16,
   "id": "severe-snowboard",
   "metadata": {},
   "outputs": [
    {
     "name": "stdout",
     "output_type": "stream",
     "text": [
      "Start training of random_forest (default mode)\n",
      "root_mean_squared_error 149.28092144080696\n",
      "r2 0.6359618074687896\n",
      "Successful training and logging of random_forest, in 3 seconds (Default Mode)\n",
      "\n",
      "\n",
      "Start training of gradient_boosting (default mode)\n",
      "root_mean_squared_error 142.21110701400053\n",
      "r2 0.6585727818279444\n",
      "Successful training and logging of gradient_boosting, in 1 seconds (Default Mode)\n",
      "\n",
      "\n",
      "Start training of xgboost (default mode)\n",
      "root_mean_squared_error 149.77176438618542\n",
      "r2 0.6355819661111831\n",
      "Successful training and logging of xgboost, in 1 seconds (Default Mode)\n",
      "\n",
      "\n",
      "Start training of lasso (default mode)\n",
      "root_mean_squared_error 184.02126852526115\n",
      "r2 0.44452773509552507\n",
      "Successful training and logging of lasso, in 0 seconds (Default Mode)\n",
      "\n",
      "\n",
      "Start training of elastic_net (default mode)\n",
      "root_mean_squared_error 211.45963139182405\n",
      "r2 0.31012056127411053\n",
      "Successful training and logging of elastic_net, in 0 seconds (Default Mode)\n",
      "\n",
      "\n",
      "Start training of kernel_ridge (default mode)\n",
      "root_mean_squared_error 182.37585111865113\n",
      "r2 0.45260870930118946\n",
      "Successful training and logging of kernel_ridge, in 0 seconds (Default Mode)\n",
      "\n",
      "\n",
      "Start training of svr (default mode)\n",
      "root_mean_squared_error 247.38098003222657\n",
      "r2 0.0817221530105701\n",
      "Successful training and logging of svr, in 1 seconds (Default Mode)\n",
      "\n",
      "\n"
     ]
    }
   ],
   "source": [
    "launch_models_CV(\n",
    "    data_train,\n",
    "    target_emissions,\n",
    "    models_params, \n",
    "    default_mode=True,\n",
    "    folds=3, \n",
    "    scorings=['neg_root_mean_squared_error', 'r2'],\n",
    "    favorite_scoring='neg_root_mean_squared_error',\n",
    "    comment='Default mode CV Raw Targets ESS',\n",
    "    n_jobs=-1)"
   ]
  },
  {
   "cell_type": "markdown",
   "id": "detected-moral",
   "metadata": {},
   "source": [
    "<a id='2_norm_targets'></a>"
   ]
  },
  {
   "cell_type": "markdown",
   "id": "nutritional-claim",
   "metadata": {},
   "source": [
    "## Targets Normalisés"
   ]
  },
  {
   "cell_type": "code",
   "execution_count": 17,
   "id": "therapeutic-puppy",
   "metadata": {},
   "outputs": [],
   "source": [
    "data_norm_targets = data.drop(columns=[target_energy, target_emissions])"
   ]
  },
  {
   "cell_type": "markdown",
   "id": "intellectual-saying",
   "metadata": {},
   "source": [
    "### Energy ⚡"
   ]
  },
  {
   "cell_type": "code",
   "execution_count": 18,
   "id": "insured-penetration",
   "metadata": {},
   "outputs": [],
   "source": [
    "data_norm_targets_energy = data_norm_targets.drop(columns=[target_emissions_norm])\n",
    "data_train, data_test = train_test_split(data_norm_targets_energy, train_size=0.7, random_state=41)"
   ]
  },
  {
   "cell_type": "markdown",
   "id": "associate-baseball",
   "metadata": {},
   "source": [
    "#### Baseline Naïve"
   ]
  },
  {
   "cell_type": "code",
   "execution_count": 19,
   "id": "headed-conditioning",
   "metadata": {},
   "outputs": [
    {
     "name": "stdout",
     "output_type": "stream",
     "text": [
      "Score R² du dummy Regressor:\n",
      "-0.0002\n",
      "\n",
      "Mean Squared Error du dummy Regressor:\n",
      "1.1292721305422049\n",
      "\n"
     ]
    }
   ],
   "source": [
    "dummy_scores_energy_norm = get_naive_baseline(target_energy_norm)"
   ]
  },
  {
   "cell_type": "markdown",
   "id": "limiting-underwear",
   "metadata": {},
   "source": [
    "#### Grid Search"
   ]
  },
  {
   "cell_type": "code",
   "execution_count": 20,
   "id": "vocational-kernel",
   "metadata": {},
   "outputs": [
    {
     "name": "stdout",
     "output_type": "stream",
     "text": [
      "Start training of random_forest with GridSearch and CV\n",
      "root_mean_squared_error :  0.35934110524235785\n",
      "r2 :  0.8923373033826493\n",
      "Successful training and logging of random_forest, in 43 seconds\n",
      "\n",
      "\n",
      "Start training of gradient_boosting with GridSearch and CV\n",
      "root_mean_squared_error :  0.33998034198865357\n",
      "r2 :  0.903622718722673\n",
      "Successful training and logging of gradient_boosting, in 26 seconds\n",
      "\n",
      "\n",
      "Start training of xgboost with GridSearch and CV\n",
      "root_mean_squared_error :  0.3136611138957736\n",
      "r2 :  0.9179430443365902\n",
      "Successful training and logging of xgboost, in 109 seconds\n",
      "\n",
      "\n",
      "Start training of lasso with GridSearch and CV\n"
     ]
    },
    {
     "name": "stderr",
     "output_type": "stream",
     "text": [
      "C:\\Users\\S053567\\Anaconda3\\lib\\site-packages\\sklearn\\linear_model\\_coordinate_descent.py:529: ConvergenceWarning: Objective did not converge. You might want to increase the number of iterations. Duality gap: 11.03566185295017, tolerance: 0.4172915683537985\n",
      "  model = cd_fast.enet_coordinate_descent(\n"
     ]
    },
    {
     "name": "stdout",
     "output_type": "stream",
     "text": [
      "root_mean_squared_error :  0.5587792259223177\n",
      "r2 :  0.7397074358554846\n",
      "Successful training and logging of lasso, in 7 seconds\n",
      "\n",
      "\n",
      "Start training of elastic_net with GridSearch and CV\n"
     ]
    },
    {
     "name": "stderr",
     "output_type": "stream",
     "text": [
      "C:\\Users\\S053567\\Anaconda3\\lib\\site-packages\\sklearn\\linear_model\\_coordinate_descent.py:529: ConvergenceWarning: Objective did not converge. You might want to increase the number of iterations. Duality gap: 6.575152674171136, tolerance: 0.4172915683537985\n",
      "  model = cd_fast.enet_coordinate_descent(\n"
     ]
    },
    {
     "name": "stdout",
     "output_type": "stream",
     "text": [
      "root_mean_squared_error :  0.5577405415672507\n",
      "r2 :  0.740666850126404\n",
      "Successful training and logging of elastic_net, in 25 seconds\n",
      "\n",
      "\n",
      "Start training of kernel_ridge with GridSearch and CV\n"
     ]
    },
    {
     "name": "stderr",
     "output_type": "stream",
     "text": [
      "C:\\Users\\S053567\\Anaconda3\\lib\\site-packages\\sklearn\\linear_model\\_ridge.py:187: LinAlgWarning: Ill-conditioned matrix (rcond=1.82555e-17): result may not be accurate.\n",
      "  dual_coef = linalg.solve(K, y, sym_pos=True,\n"
     ]
    },
    {
     "name": "stdout",
     "output_type": "stream",
     "text": [
      "root_mean_squared_error :  0.5597762184143503\n",
      "r2 :  0.738695319367569\n",
      "Successful training and logging of kernel_ridge, in 153 seconds\n",
      "\n",
      "\n",
      "Start training of svr with GridSearch and CV\n",
      "root_mean_squared_error :  0.6061213877595454\n",
      "r2 :  0.693816008316137\n",
      "Successful training and logging of svr, in 24 seconds\n",
      "\n",
      "\n"
     ]
    }
   ],
   "source": [
    "launch_models_CV(\n",
    "    data_train,\n",
    "    target_energy_norm,\n",
    "    models_params, \n",
    "    default_mode=False,\n",
    "    folds=3, \n",
    "    scorings=['neg_root_mean_squared_error', 'r2'],\n",
    "    favorite_scoring='neg_root_mean_squared_error',\n",
    "    comment='Grid Search CV norm Targets ESS',\n",
    "    n_jobs=-1)"
   ]
  },
  {
   "cell_type": "markdown",
   "id": "external-convertible",
   "metadata": {},
   "source": [
    "#### Défaut CV"
   ]
  },
  {
   "cell_type": "code",
   "execution_count": 21,
   "id": "located-destination",
   "metadata": {},
   "outputs": [
    {
     "name": "stdout",
     "output_type": "stream",
     "text": [
      "Start training of random_forest (default mode)\n",
      "root_mean_squared_error 0.35904770607756703\n",
      "r2 0.8924886841609355\n",
      "Successful training and logging of random_forest, in 3 seconds (Default Mode)\n",
      "\n",
      "\n",
      "Start training of gradient_boosting (default mode)\n",
      "root_mean_squared_error 0.3595775129158543\n",
      "r2 0.8921178458403326\n",
      "Successful training and logging of gradient_boosting, in 1 seconds (Default Mode)\n",
      "\n",
      "\n",
      "Start training of xgboost (default mode)\n",
      "root_mean_squared_error 0.3402930498273669\n",
      "r2 0.9034879155478249\n",
      "Successful training and logging of xgboost, in 1 seconds (Default Mode)\n",
      "\n",
      "\n",
      "Start training of lasso (default mode)\n",
      "root_mean_squared_error 0.7494590976970071\n",
      "r2 0.5319976627641075\n",
      "Successful training and logging of lasso, in 0 seconds (Default Mode)\n",
      "\n",
      "\n",
      "Start training of elastic_net (default mode)\n",
      "root_mean_squared_error 0.7483434685736293\n",
      "r2 0.5333904334840674\n",
      "Successful training and logging of elastic_net, in 0 seconds (Default Mode)\n",
      "\n",
      "\n",
      "Start training of kernel_ridge (default mode)\n",
      "root_mean_squared_error 0.5577916280237435\n",
      "r2 0.7406159120353145\n",
      "Successful training and logging of kernel_ridge, in 1 seconds (Default Mode)\n",
      "\n",
      "\n",
      "Start training of svr (default mode)\n",
      "root_mean_squared_error 0.6110154550057417\n",
      "r2 0.6888830612454045\n",
      "Successful training and logging of svr, in 1 seconds (Default Mode)\n",
      "\n",
      "\n"
     ]
    }
   ],
   "source": [
    "launch_models_CV(\n",
    "    data_train,\n",
    "    target_energy_norm,\n",
    "    models_params, \n",
    "    default_mode=True,\n",
    "    folds=3, \n",
    "    scorings=['neg_root_mean_squared_error', 'r2'],\n",
    "    favorite_scoring='neg_root_mean_squared_error',\n",
    "    comment='Default mode CV norm Targets ESS',\n",
    "    n_jobs=-1)"
   ]
  },
  {
   "cell_type": "markdown",
   "id": "finnish-material",
   "metadata": {},
   "source": [
    "### Emissions 🌋"
   ]
  },
  {
   "cell_type": "code",
   "execution_count": 2,
   "id": "designing-settlement",
   "metadata": {
    "collapsed": true,
    "jupyter": {
     "outputs_hidden": true
    }
   },
   "outputs": [
    {
     "ename": "NameError",
     "evalue": "name 'data_norm_targets' is not defined",
     "output_type": "error",
     "traceback": [
      "\u001b[1;31m---------------------------------------------------------------------------\u001b[0m",
      "\u001b[1;31mNameError\u001b[0m                                 Traceback (most recent call last)",
      "\u001b[1;32m<ipython-input-2-de5a0710bd45>\u001b[0m in \u001b[0;36m<module>\u001b[1;34m\u001b[0m\n\u001b[1;32m----> 1\u001b[1;33m \u001b[0mdata_norm_targets_emissions\u001b[0m \u001b[1;33m=\u001b[0m \u001b[0mdata_norm_targets\u001b[0m\u001b[1;33m.\u001b[0m\u001b[0mdrop\u001b[0m\u001b[1;33m(\u001b[0m\u001b[0mcolumns\u001b[0m\u001b[1;33m=\u001b[0m\u001b[1;33m[\u001b[0m\u001b[0mtarget_energy_norm\u001b[0m\u001b[1;33m]\u001b[0m\u001b[1;33m)\u001b[0m\u001b[1;33m\u001b[0m\u001b[1;33m\u001b[0m\u001b[0m\n\u001b[0m\u001b[0;32m      2\u001b[0m \u001b[0mdata_train\u001b[0m\u001b[1;33m,\u001b[0m \u001b[0mdata_test\u001b[0m \u001b[1;33m=\u001b[0m \u001b[0mtrain_test_split\u001b[0m\u001b[1;33m(\u001b[0m\u001b[0mdata_norm_targets_emissions\u001b[0m\u001b[1;33m,\u001b[0m \u001b[0mtrain_size\u001b[0m\u001b[1;33m=\u001b[0m\u001b[1;36m0.7\u001b[0m\u001b[1;33m,\u001b[0m \u001b[0mrandom_state\u001b[0m\u001b[1;33m=\u001b[0m\u001b[1;36m41\u001b[0m\u001b[1;33m)\u001b[0m\u001b[1;33m\u001b[0m\u001b[1;33m\u001b[0m\u001b[0m\n",
      "\u001b[1;31mNameError\u001b[0m: name 'data_norm_targets' is not defined"
     ]
    }
   ],
   "source": [
    "data_norm_targets_emissions = data_norm_targets.drop(columns=[target_energy_norm])\n",
    "data_train, data_test = train_test_split(data_norm_targets_emissions, train_size=0.7, random_state=41)"
   ]
  },
  {
   "cell_type": "markdown",
   "id": "consolidated-extreme",
   "metadata": {},
   "source": [
    "#### Baseline Naïve"
   ]
  },
  {
   "cell_type": "code",
   "execution_count": 23,
   "id": "environmental-astronomy",
   "metadata": {},
   "outputs": [
    {
     "name": "stdout",
     "output_type": "stream",
     "text": [
      "Score R² du dummy Regressor:\n",
      "-0.0007\n",
      "\n",
      "Mean Squared Error du dummy Regressor:\n",
      "1.7727032216472645\n",
      "\n"
     ]
    }
   ],
   "source": [
    "dummy_scores_emissions_norm = get_naive_baseline(target_emissions_norm)"
   ]
  },
  {
   "cell_type": "markdown",
   "id": "capital-disease",
   "metadata": {},
   "source": [
    "#### Grid Search"
   ]
  },
  {
   "cell_type": "code",
   "execution_count": 24,
   "id": "chicken-parking",
   "metadata": {},
   "outputs": [
    {
     "name": "stdout",
     "output_type": "stream",
     "text": [
      "Start training of random_forest with GridSearch and CV\n",
      "root_mean_squared_error :  0.6916968364744059\n",
      "r2 :  0.7489890110878195\n",
      "Successful training and logging of random_forest, in 44 seconds\n",
      "\n",
      "\n",
      "Start training of gradient_boosting with GridSearch and CV\n",
      "root_mean_squared_error :  0.6842127753174613\n",
      "r2 :  0.7542802604625884\n",
      "Successful training and logging of gradient_boosting, in 26 seconds\n",
      "\n",
      "\n",
      "Start training of xgboost with GridSearch and CV\n",
      "root_mean_squared_error :  0.6618928273859336\n",
      "r2 :  0.7699196083106162\n",
      "Successful training and logging of xgboost, in 130 seconds\n",
      "\n",
      "\n",
      "Start training of lasso with GridSearch and CV\n"
     ]
    },
    {
     "name": "stderr",
     "output_type": "stream",
     "text": [
      "C:\\Users\\S053567\\Anaconda3\\lib\\site-packages\\sklearn\\linear_model\\_coordinate_descent.py:529: ConvergenceWarning: Objective did not converge. You might want to increase the number of iterations. Duality gap: 23.50499347067671, tolerance: 0.6640199546242928\n",
      "  model = cd_fast.enet_coordinate_descent(\n"
     ]
    },
    {
     "name": "stdout",
     "output_type": "stream",
     "text": [
      "root_mean_squared_error :  0.9226199887656442\n",
      "r2 :  0.5534622487274762\n",
      "Successful training and logging of lasso, in 8 seconds\n",
      "\n",
      "\n",
      "Start training of elastic_net with GridSearch and CV\n"
     ]
    },
    {
     "name": "stderr",
     "output_type": "stream",
     "text": [
      "C:\\Users\\S053567\\Anaconda3\\lib\\site-packages\\sklearn\\linear_model\\_coordinate_descent.py:529: ConvergenceWarning: Objective did not converge. You might want to increase the number of iterations. Duality gap: 17.40963827703081, tolerance: 0.6640199546242928\n",
      "  model = cd_fast.enet_coordinate_descent(\n"
     ]
    },
    {
     "name": "stdout",
     "output_type": "stream",
     "text": [
      "root_mean_squared_error :  0.9210933952047968\n",
      "r2 :  0.5549648823996312\n",
      "Successful training and logging of elastic_net, in 26 seconds\n",
      "\n",
      "\n",
      "Start training of kernel_ridge with GridSearch and CV\n"
     ]
    },
    {
     "name": "stderr",
     "output_type": "stream",
     "text": [
      "C:\\Users\\S053567\\Anaconda3\\lib\\site-packages\\sklearn\\linear_model\\_ridge.py:187: LinAlgWarning: Ill-conditioned matrix (rcond=1.82555e-17): result may not be accurate.\n",
      "  dual_coef = linalg.solve(K, y, sym_pos=True,\n"
     ]
    },
    {
     "name": "stdout",
     "output_type": "stream",
     "text": [
      "root_mean_squared_error :  0.9266076481375816\n",
      "r2 :  0.5496902621889431\n",
      "Successful training and logging of kernel_ridge, in 158 seconds\n",
      "\n",
      "\n",
      "Start training of svr with GridSearch and CV\n",
      "root_mean_squared_error :  1.0395504769180242\n",
      "r2 :  0.4336897481467201\n",
      "Successful training and logging of svr, in 17 seconds\n",
      "\n",
      "\n"
     ]
    }
   ],
   "source": [
    "launch_models_CV(\n",
    "    data_train,\n",
    "    target_emissions_norm,\n",
    "    models_params, \n",
    "    default_mode=False,\n",
    "    folds=3, \n",
    "    scorings=['neg_root_mean_squared_error', 'r2'],\n",
    "    favorite_scoring='neg_root_mean_squared_error',\n",
    "    comment='Grid Search CV norm Targets ESS',\n",
    "    n_jobs=-1)"
   ]
  },
  {
   "cell_type": "markdown",
   "id": "exotic-mexico",
   "metadata": {},
   "source": [
    "#### Défaut CV"
   ]
  },
  {
   "cell_type": "code",
   "execution_count": 25,
   "id": "unlimited-economy",
   "metadata": {},
   "outputs": [
    {
     "name": "stdout",
     "output_type": "stream",
     "text": [
      "Start training of random_forest (default mode)\n",
      "root_mean_squared_error 0.690326482517273\n",
      "r2 0.7499174379643514\n",
      "Successful training and logging of random_forest, in 3 seconds (Default Mode)\n",
      "\n",
      "\n",
      "Start training of gradient_boosting (default mode)\n",
      "root_mean_squared_error 0.7450024483704212\n",
      "r2 0.708371804935345\n",
      "Successful training and logging of gradient_boosting, in 1 seconds (Default Mode)\n",
      "\n",
      "\n",
      "Start training of xgboost (default mode)\n",
      "root_mean_squared_error 0.6996091551398621\n",
      "r2 0.7431365968993195\n",
      "Successful training and logging of xgboost, in 1 seconds (Default Mode)\n",
      "\n",
      "\n",
      "Start training of lasso (default mode)\n",
      "root_mean_squared_error 1.1198511616465303\n",
      "r2 0.3427309902411541\n",
      "Successful training and logging of lasso, in 0 seconds (Default Mode)\n",
      "\n",
      "\n",
      "Start training of elastic_net (default mode)\n",
      "root_mean_squared_error 1.1190909750015434\n",
      "r2 0.3436292149076257\n",
      "Successful training and logging of elastic_net, in 0 seconds (Default Mode)\n",
      "\n",
      "\n",
      "Start training of kernel_ridge (default mode)\n",
      "root_mean_squared_error 0.92112368056125\n",
      "r2 0.5549271461350095\n",
      "Successful training and logging of kernel_ridge, in 0 seconds (Default Mode)\n",
      "\n",
      "\n",
      "Start training of svr (default mode)\n",
      "root_mean_squared_error 1.0415373641433743\n",
      "r2 0.4315416098188149\n",
      "Successful training and logging of svr, in 1 seconds (Default Mode)\n",
      "\n",
      "\n"
     ]
    }
   ],
   "source": [
    "launch_models_CV(\n",
    "    data_train,\n",
    "    target_emissions_norm,\n",
    "    models_params, \n",
    "    default_mode=True,\n",
    "    folds=3, \n",
    "    scorings=['neg_root_mean_squared_error', 'r2'],\n",
    "    favorite_scoring='neg_root_mean_squared_error',\n",
    "    comment='Default mode CV norm Targets ESS',\n",
    "    n_jobs=-1)"
   ]
  },
  {
   "cell_type": "markdown",
   "id": "published-ultimate",
   "metadata": {},
   "source": [
    "<a id='2_conclusions_train'></a>"
   ]
  },
  {
   "cell_type": "markdown",
   "id": "played-monitor",
   "metadata": {},
   "source": [
    "## Conclusions post entrainement 😌"
   ]
  },
  {
   "cell_type": "markdown",
   "id": "prepared-isolation",
   "metadata": {},
   "source": [
    "Dans tous les cas, le dummy regressor est battu (ouf!)\n",
    "Les modèles les plus performants sont :\n",
    "- Random Forest\n",
    "- Gradient boosting\n",
    "- XGBoost (Meilleur toujours)"
   ]
  },
  {
   "cell_type": "markdown",
   "id": "returning-australia",
   "metadata": {},
   "source": [
    "Les données normalisées ont les meilleurs resultats (en r²)"
   ]
  },
  {
   "cell_type": "markdown",
   "id": "closed-momentum",
   "metadata": {},
   "source": [
    "On retient le XGBOOST dans les deux cas"
   ]
  },
  {
   "cell_type": "markdown",
   "id": "prostate-nitrogen",
   "metadata": {},
   "source": [
    "EnergyStarScore apporte un peu de précision mais on peut s'en passer pour des raisons de cout et on a un set d'entrainement plus grand"
   ]
  },
  {
   "cell_type": "markdown",
   "id": "alternate-preservation",
   "metadata": {},
   "source": [
    "### XGBoost : "
   ]
  },
  {
   "cell_type": "markdown",
   "id": "built-gender",
   "metadata": {},
   "source": [
    "<img src=\"plots_storage/best_model.png\" style=\"height:300px\">"
   ]
  },
  {
   "cell_type": "markdown",
   "id": "outside-virgin",
   "metadata": {},
   "source": [
    "<a id='1_refit'></a>"
   ]
  },
  {
   "cell_type": "markdown",
   "id": "daily-apartment",
   "metadata": {},
   "source": [
    "# Refit XGBoost energy et emissions \n",
    "On utilisera dans cette partie les cibles normalisées"
   ]
  },
  {
   "cell_type": "markdown",
   "id": "square-grocery",
   "metadata": {},
   "source": [
    "<a id='2_refit_ESS'></a>"
   ]
  },
  {
   "cell_type": "markdown",
   "id": "acute-conspiracy",
   "metadata": {},
   "source": [
    "## Avec EnergyStarScore"
   ]
  },
  {
   "cell_type": "code",
   "execution_count": 321,
   "id": "found-wrist",
   "metadata": {},
   "outputs": [],
   "source": [
    "data = pd.read_csv('data/data_full_post_analisis.csv')\n",
    "data.drop(columns=['Unnamed: 0', 'CouncilDistrictCode', 'DataYear'], inplace=True)\n",
    "data.dropna(inplace=True)\n",
    "data.set_index('OSEBuildingID', inplace=True)\n",
    "data = data[list(data.dtypes[data.dtypes != \"object\"].index)]\n",
    "data.drop(columns=['SiteEUI(kBtu/sf)', 'SiteEUIWN(kBtu/sf)',\n",
    "       'SourceEUI(kBtu/sf)', 'SourceEUIWN(kBtu/sf)', \n",
    "       'SiteEnergyUseWN(kBtu)', 'SteamUse(kBtu)', 'Electricity(kWh)',\n",
    "       'Electricity(kBtu)', 'NaturalGas(therms)', 'NaturalGas(kBtu)',\n",
    "       'GHGEmissionsIntensity'], inplace=True)"
   ]
  },
  {
   "cell_type": "code",
   "execution_count": 322,
   "id": "colonial-indonesian",
   "metadata": {},
   "outputs": [],
   "source": [
    "data_norm_targets = data.drop(columns=[target_energy, target_emissions])"
   ]
  },
  {
   "cell_type": "markdown",
   "id": "olympic-front",
   "metadata": {},
   "source": [
    "## Energy"
   ]
  },
  {
   "cell_type": "code",
   "execution_count": 323,
   "id": "apparent-rhythm",
   "metadata": {},
   "outputs": [],
   "source": [
    "data_norm_targets_energy = data_norm_targets.drop(columns=[target_emissions_norm])\n",
    "data_train, data_test = train_test_split(data_norm_targets_energy, train_size=0.7, random_state=41)"
   ]
  },
  {
   "cell_type": "code",
   "execution_count": 324,
   "id": "vocal-savage",
   "metadata": {},
   "outputs": [],
   "source": [
    "xgboost_energy_ess = XGBRegressor(learning_rate=0.1,\n",
    "                                 max_depth=20,\n",
    "                                 reg_alpha=0.01,\n",
    "                                 min_child_weight=5)"
   ]
  },
  {
   "cell_type": "code",
   "execution_count": 325,
   "id": "conscious-console",
   "metadata": {},
   "outputs": [
    {
     "name": "stdout",
     "output_type": "stream",
     "text": [
      "temps d'entrainement : 0.9468948841094971 s\n"
     ]
    }
   ],
   "source": [
    "start = time.time()\n",
    "xgboost_energy_ess.fit(data_train.drop(columns=[target_energy_norm]), data_train[target_energy_norm])\n",
    "print(\"temps d'entrainement : {} s\".format(time.time() - start))"
   ]
  },
  {
   "cell_type": "code",
   "execution_count": 326,
   "id": "intelligent-opportunity",
   "metadata": {},
   "outputs": [
    {
     "name": "stdout",
     "output_type": "stream",
     "text": [
      "Wall time: 13.9 ms\n"
     ]
    }
   ],
   "source": [
    "%%time\n",
    "prediction = xgboost_energy_ess.predict(data_test.drop(columns=[target_energy_norm]))"
   ]
  },
  {
   "cell_type": "code",
   "execution_count": 327,
   "id": "occasional-location",
   "metadata": {},
   "outputs": [
    {
     "name": "stdout",
     "output_type": "stream",
     "text": [
      "0.9143730142386062\n"
     ]
    }
   ],
   "source": [
    "R2_energy_ESS = r2_score(prediction, data_test[target_energy_norm])\n",
    "print(R2_energy_ESS)"
   ]
  },
  {
   "cell_type": "code",
   "execution_count": 328,
   "id": "operational-collar",
   "metadata": {},
   "outputs": [
    {
     "name": "stdout",
     "output_type": "stream",
     "text": [
      "2258253.7090832107\n"
     ]
    }
   ],
   "source": [
    "RMSE_energy_ESS = math.sqrt(mean_squared_error(np.expm1(data_test[target_energy_norm]), np.expm1(prediction)))\n",
    "print(RMSE_energy_ESS)"
   ]
  },
  {
   "cell_type": "markdown",
   "id": "applied-tamil",
   "metadata": {},
   "source": [
    "## Emissions"
   ]
  },
  {
   "cell_type": "code",
   "execution_count": 329,
   "id": "grave-hamburg",
   "metadata": {},
   "outputs": [],
   "source": [
    "data_norm_targets_emissions = data_norm_targets.drop(columns=[target_energy_norm])\n",
    "data_train, data_test = train_test_split(data_norm_targets_emissions, train_size=0.7, random_state=41)"
   ]
  },
  {
   "cell_type": "code",
   "execution_count": 330,
   "id": "blind-holmes",
   "metadata": {},
   "outputs": [],
   "source": [
    "xgboost_emissions_ess = XGBRegressor(learning_rate=0.1,\n",
    "                                     max_depth=20,\n",
    "                                     reg_alpha=0.01,\n",
    "                                     min_child_weight=10)"
   ]
  },
  {
   "cell_type": "code",
   "execution_count": 331,
   "id": "celtic-vatican",
   "metadata": {},
   "outputs": [
    {
     "name": "stdout",
     "output_type": "stream",
     "text": [
      "temps d'entrainement : 0.996997594833374 s\n"
     ]
    }
   ],
   "source": [
    "start = time.time()\n",
    "xgboost_emissions_ess.fit(data_train.drop(columns=[target_emissions_norm]), data_train[target_emissions_norm])\n",
    "print(\"temps d'entrainement : {} s\".format(time.time() - start))"
   ]
  },
  {
   "cell_type": "code",
   "execution_count": 332,
   "id": "silver-uniform",
   "metadata": {},
   "outputs": [
    {
     "name": "stdout",
     "output_type": "stream",
     "text": [
      "Wall time: 12.9 ms\n"
     ]
    }
   ],
   "source": [
    "%%time\n",
    "prediction = xgboost_emissions_ess.predict(data_test.drop(columns=[target_emissions_norm]))"
   ]
  },
  {
   "cell_type": "code",
   "execution_count": 333,
   "id": "initial-scott",
   "metadata": {},
   "outputs": [
    {
     "name": "stdout",
     "output_type": "stream",
     "text": [
      "0.76406219597108\n"
     ]
    }
   ],
   "source": [
    "R2_emissions_ESS = r2_score(prediction, data_test[target_emissions_norm])\n",
    "print(R2_emissions_ESS)"
   ]
  },
  {
   "cell_type": "code",
   "execution_count": 334,
   "id": "anonymous-vanilla",
   "metadata": {},
   "outputs": [
    {
     "name": "stdout",
     "output_type": "stream",
     "text": [
      "61.899947998758776\n"
     ]
    }
   ],
   "source": [
    "RMSE_emissions_ESS = math.sqrt(mean_squared_error(np.expm1(data_test[target_emissions_norm]), np.expm1(prediction)))\n",
    "print(RMSE_emissions_ESS)"
   ]
  },
  {
   "cell_type": "markdown",
   "id": "confident-ghost",
   "metadata": {},
   "source": [
    "<a id='2_refit_no_ESS'></a>"
   ]
  },
  {
   "cell_type": "markdown",
   "id": "developed-spank",
   "metadata": {},
   "source": [
    "\n",
    "## Sans EnergyStarScore"
   ]
  },
  {
   "cell_type": "code",
   "execution_count": 335,
   "id": "sublime-basic",
   "metadata": {},
   "outputs": [],
   "source": [
    "data = pd.read_csv('data/data_full_post_analisis.csv')\n",
    "data.drop(columns=['Unnamed: 0', 'CouncilDistrictCode', 'DataYear'], inplace=True)\n",
    "data.dropna(inplace=True)\n",
    "data.set_index('OSEBuildingID', inplace=True)\n",
    "data = data[list(data.dtypes[data.dtypes != \"object\"].index)]\n",
    "data.drop(columns=['SiteEUI(kBtu/sf)', 'SiteEUIWN(kBtu/sf)',\n",
    "       'SourceEUI(kBtu/sf)', 'SourceEUIWN(kBtu/sf)', \n",
    "       'SiteEnergyUseWN(kBtu)', 'SteamUse(kBtu)', 'Electricity(kWh)',\n",
    "       'Electricity(kBtu)', 'NaturalGas(therms)', 'NaturalGas(kBtu)',\n",
    "       'GHGEmissionsIntensity'], inplace=True)\n",
    "# On supprime en plus la colonne à tester\n",
    "data.drop(columns=['ENERGYSTARScore'], inplace=True)"
   ]
  },
  {
   "cell_type": "code",
   "execution_count": 336,
   "id": "defensive-result",
   "metadata": {},
   "outputs": [],
   "source": [
    "data_norm_targets = data.drop(columns=[target_energy, target_emissions])"
   ]
  },
  {
   "cell_type": "markdown",
   "id": "funny-preservation",
   "metadata": {},
   "source": [
    "## Energy"
   ]
  },
  {
   "cell_type": "code",
   "execution_count": 337,
   "id": "smooth-career",
   "metadata": {},
   "outputs": [],
   "source": [
    "data_norm_targets_energy = data_norm_targets.drop(columns=[target_emissions_norm])\n",
    "data_train, data_test = train_test_split(data_norm_targets_energy, train_size=0.7, random_state=41)"
   ]
  },
  {
   "cell_type": "code",
   "execution_count": 338,
   "id": "regulated-gibraltar",
   "metadata": {},
   "outputs": [],
   "source": [
    "# xgboost_energy = XGBRegressor(learning_rate=0.1,\n",
    "#                                  max_depth=20,\n",
    "#                                  reg_alpha=0.01,\n",
    "#                                  min_child_weight=5,\n",
    "#                                  random_state=41)"
   ]
  },
  {
   "cell_type": "code",
   "execution_count": 339,
   "id": "corporate-staff",
   "metadata": {},
   "outputs": [
    {
     "name": "stdout",
     "output_type": "stream",
     "text": [
      "temps d'entrainement : 0.9771218299865723 s\n"
     ]
    }
   ],
   "source": [
    "start = time.time()\n",
    "xgboost_energy = XGBRegressor(learning_rate=0.1,\n",
    "                                 max_depth=20,\n",
    "                                 reg_alpha=0.01,\n",
    "                                 min_child_weight=5,\n",
    "                                 random_state=41).fit(\\\n",
    "                                                            data_train.drop(columns=[target_energy_norm]), \n",
    "                                                            data_train[target_energy_norm])\n",
    "print(\"temps d'entrainement : {} s\".format(time.time() - start))"
   ]
  },
  {
   "cell_type": "code",
   "execution_count": 340,
   "id": "referenced-capture",
   "metadata": {},
   "outputs": [
    {
     "name": "stdout",
     "output_type": "stream",
     "text": [
      "Wall time: 12.4 ms\n"
     ]
    }
   ],
   "source": [
    "%%time\n",
    "prediction = xgboost_energy.predict(data_test.drop(columns=[target_energy_norm]))"
   ]
  },
  {
   "cell_type": "code",
   "execution_count": 341,
   "id": "numeric-dress",
   "metadata": {},
   "outputs": [
    {
     "name": "stdout",
     "output_type": "stream",
     "text": [
      "0.8665857483148065\n"
     ]
    }
   ],
   "source": [
    "R2_energy = r2_score(prediction, data_test[target_energy_norm])\n",
    "print(R2_energy)"
   ]
  },
  {
   "cell_type": "code",
   "execution_count": 342,
   "id": "gentle-terror",
   "metadata": {},
   "outputs": [
    {
     "name": "stdout",
     "output_type": "stream",
     "text": [
      "2463035.0562310405\n"
     ]
    }
   ],
   "source": [
    "RMSE_energy = math.sqrt(mean_squared_error(np.expm1(data_test[target_energy_norm]), np.expm1(prediction)))\n",
    "print(RMSE_energy)"
   ]
  },
  {
   "cell_type": "markdown",
   "id": "statistical-right",
   "metadata": {},
   "source": [
    "## Emissions"
   ]
  },
  {
   "cell_type": "code",
   "execution_count": 343,
   "id": "stock-exhaust",
   "metadata": {},
   "outputs": [],
   "source": [
    "data_norm_targets_emissions = data_norm_targets.drop(columns=[target_energy_norm])\n",
    "data_train, data_test = train_test_split(data_norm_targets_emissions, train_size=0.7, random_state=41)"
   ]
  },
  {
   "cell_type": "code",
   "execution_count": 344,
   "id": "spread-glory",
   "metadata": {},
   "outputs": [
    {
     "name": "stdout",
     "output_type": "stream",
     "text": [
      "temps d'entrainement : 1.0187911987304688 s\n"
     ]
    }
   ],
   "source": [
    "start = time.time()\n",
    "xgboost_emissions = XGBRegressor(learning_rate=0.1,\n",
    "                                     max_depth=20,\n",
    "                                     reg_alpha=0.01,\n",
    "                                     min_child_weight=10).fit(\\\n",
    "                                                            data_train.drop(columns=[target_emissions_norm]), \n",
    "                                                            data_train[target_emissions_norm])\n",
    "print(\"temps d'entrainement : {} s\".format(time.time() - start))"
   ]
  },
  {
   "cell_type": "code",
   "execution_count": 345,
   "id": "hungarian-roommate",
   "metadata": {},
   "outputs": [
    {
     "name": "stdout",
     "output_type": "stream",
     "text": [
      "Wall time: 12.9 ms\n"
     ]
    }
   ],
   "source": [
    "%%time\n",
    "prediction = xgboost_emissions.predict(data_test.drop(columns=[target_emissions_norm]))"
   ]
  },
  {
   "cell_type": "code",
   "execution_count": 346,
   "id": "regional-liechtenstein",
   "metadata": {},
   "outputs": [
    {
     "name": "stdout",
     "output_type": "stream",
     "text": [
      "0.7418237107311857\n"
     ]
    }
   ],
   "source": [
    "R2_emissions = r2_score(prediction, data_test[target_emissions_norm])\n",
    "print(R2_emissions)"
   ]
  },
  {
   "cell_type": "code",
   "execution_count": 347,
   "id": "peaceful-pharmacy",
   "metadata": {},
   "outputs": [
    {
     "name": "stdout",
     "output_type": "stream",
     "text": [
      "70.64435433759046\n"
     ]
    }
   ],
   "source": [
    "RMSE_emissions = math.sqrt(mean_squared_error(np.expm1(data_test[target_emissions_norm]), np.expm1(prediction)))\n",
    "print(RMSE_emissions)"
   ]
  },
  {
   "cell_type": "markdown",
   "id": "genuine-luxembourg",
   "metadata": {},
   "source": [
    "<a id='2_refit_conclusions'></a>"
   ]
  },
  {
   "cell_type": "markdown",
   "id": "occupied-analyst",
   "metadata": {},
   "source": [
    "## Conclusions du refit"
   ]
  },
  {
   "cell_type": "markdown",
   "id": "comprehensive-orlando",
   "metadata": {},
   "source": [
    "Améliorations relatives"
   ]
  },
  {
   "cell_type": "markdown",
   "id": "anticipated-conversion",
   "metadata": {},
   "source": [
    "RMSE Energy"
   ]
  },
  {
   "cell_type": "code",
   "execution_count": 348,
   "id": "prostate-mounting",
   "metadata": {},
   "outputs": [
    {
     "data": {
      "text/plain": [
       "8.314187271909486"
      ]
     },
     "execution_count": 348,
     "metadata": {},
     "output_type": "execute_result"
    }
   ],
   "source": [
    "(RMSE_energy - RMSE_energy_ESS) / RMSE_energy * 100 # BUG ici, pas de solution..."
   ]
  },
  {
   "cell_type": "markdown",
   "id": "modified-winter",
   "metadata": {},
   "source": [
    "R² Energy"
   ]
  },
  {
   "cell_type": "code",
   "execution_count": 349,
   "id": "heavy-proof",
   "metadata": {},
   "outputs": [
    {
     "data": {
      "text/plain": [
       "5.514430166515949"
      ]
     },
     "execution_count": 349,
     "metadata": {},
     "output_type": "execute_result"
    }
   ],
   "source": [
    "(R2_energy_ESS - R2_energy) / R2_energy * 100"
   ]
  },
  {
   "cell_type": "markdown",
   "id": "twelve-generation",
   "metadata": {},
   "source": [
    "RMSE Emissions"
   ]
  },
  {
   "cell_type": "code",
   "execution_count": 352,
   "id": "waiting-membership",
   "metadata": {},
   "outputs": [
    {
     "data": {
      "text/plain": [
       "12.378068170946122"
      ]
     },
     "execution_count": 352,
     "metadata": {},
     "output_type": "execute_result"
    }
   ],
   "source": [
    "(RMSE_emissions - RMSE_emissions_ESS) / RMSE_emissions * 100"
   ]
  },
  {
   "cell_type": "markdown",
   "id": "engaged-pointer",
   "metadata": {},
   "source": [
    "R² Emissions"
   ]
  },
  {
   "cell_type": "code",
   "execution_count": 351,
   "id": "ecological-standing",
   "metadata": {},
   "outputs": [
    {
     "data": {
      "text/plain": [
       "2.9978126768116886"
      ]
     },
     "execution_count": 351,
     "metadata": {},
     "output_type": "execute_result"
    }
   ],
   "source": [
    "(R2_emissions_ESS - R2_emissions) / R2_emissions * 100"
   ]
  },
  {
   "cell_type": "markdown",
   "id": "dramatic-upset",
   "metadata": {},
   "source": [
    "<a id='1_train_time'></a>"
   ]
  },
  {
   "cell_type": "markdown",
   "id": "arbitrary-applicant",
   "metadata": {},
   "source": [
    "# Temps d'entrainement"
   ]
  },
  {
   "cell_type": "markdown",
   "id": "tender-saturday",
   "metadata": {},
   "source": [
    "Comparaison en prenant en compte l'estimation de l'energy avec ESS et targets normalisés"
   ]
  },
  {
   "cell_type": "code",
   "execution_count": 132,
   "id": "flexible-panama",
   "metadata": {},
   "outputs": [],
   "source": [
    "best_params  = {  \n",
    "    'random_forest': {\n",
    "        'params': {\n",
    "           'max_depth' : 20,\n",
    "           'max_features' : 'auto',\n",
    "           'min_samples_leaf': 1,\n",
    "           'min_samples_split': 2,\n",
    "           'random_state': 41\n",
    "           },\n",
    "        'estimator': RandomForestRegressor,\n",
    "    },\n",
    "                        \n",
    "    'gradient_boosting': {\n",
    "         'params': {\n",
    "             'max_depth' : 5,\n",
    "             'learning_rate' : 0.2,\n",
    "             'n_iter_no_change': None,\n",
    "             'random_state': 41\n",
    "             },\n",
    "         'estimator': GradientBoostingRegressor\n",
    "    },\n",
    "                 \n",
    "                 \n",
    "    'xgboost': {\n",
    "        'params':{\n",
    "            'max_depth' : 20,\n",
    "            'learning_rate' : 0.1,\n",
    "            'reg_alpha': 0.01,\n",
    "            'min_child_weight': 5,\n",
    "            'random_state': 41\n",
    "            },\n",
    "        'estimator': XGBRegressor\n",
    "    },\n",
    "\n",
    "   'lasso': {\n",
    "       'params': {\n",
    "           'alpha': 0.001,\n",
    "           'random_state': 41,\n",
    "           'max_iter': 10000\n",
    "           },\n",
    "       'estimator' : Lasso\n",
    "    },\n",
    "    \n",
    "    'elastic_net': {\n",
    "        'params': {\n",
    "            'alpha' : 0.0001,\n",
    "            'l1_ratio' : 0.5,\n",
    "            'max_iter': 10000\n",
    "            },\n",
    "        'estimator': ElasticNet\n",
    "    },\n",
    "                 \n",
    "    'kernel_ridge': {\n",
    "        'params': {\n",
    "            'alpha': 0.01,\n",
    "            'kernel': 'linear',\n",
    "            },\n",
    "        'estimator': KernelRidge\n",
    "    },\n",
    "    \n",
    "    'svr':{\n",
    "        'params':{\n",
    "            \"kernel\":'rbf',\n",
    "            \"C\":1,\n",
    "            'epsilon':0.3,\n",
    "            'max_iter': 10000\n",
    "        },\n",
    "        'estimator': SVR\n",
    "    }\n",
    "}"
   ]
  },
  {
   "cell_type": "code",
   "execution_count": 27,
   "id": "dominant-testimony",
   "metadata": {},
   "outputs": [
    {
     "data": {
      "text/plain": [
       "'15'"
      ]
     },
     "execution_count": 27,
     "metadata": {},
     "output_type": "execute_result"
    }
   ],
   "source": [
    "mlflow.create_experiment(\"Predict_Times\")"
   ]
  },
  {
   "cell_type": "code",
   "execution_count": 1,
   "id": "controversial-charm",
   "metadata": {
    "collapsed": true,
    "jupyter": {
     "outputs_hidden": true
    }
   },
   "outputs": [
    {
     "ename": "NameError",
     "evalue": "name 'train_test_split' is not defined",
     "output_type": "error",
     "traceback": [
      "\u001b[1;31m---------------------------------------------------------------------------\u001b[0m",
      "\u001b[1;31mNameError\u001b[0m                                 Traceback (most recent call last)",
      "\u001b[1;32m<ipython-input-1-aaa708a77440>\u001b[0m in \u001b[0;36m<module>\u001b[1;34m\u001b[0m\n\u001b[1;32m----> 1\u001b[1;33m \u001b[0mdata_train\u001b[0m\u001b[1;33m,\u001b[0m \u001b[0mdata_test\u001b[0m \u001b[1;33m=\u001b[0m \u001b[0mtrain_test_split\u001b[0m\u001b[1;33m(\u001b[0m\u001b[0mdata_norm_targets_energy\u001b[0m\u001b[1;33m,\u001b[0m \u001b[0mtrain_size\u001b[0m\u001b[1;33m=\u001b[0m\u001b[1;36m0.7\u001b[0m\u001b[1;33m,\u001b[0m \u001b[0mrandom_state\u001b[0m\u001b[1;33m=\u001b[0m\u001b[1;36m41\u001b[0m\u001b[1;33m)\u001b[0m\u001b[1;33m\u001b[0m\u001b[1;33m\u001b[0m\u001b[0m\n\u001b[0m\u001b[0;32m      2\u001b[0m \u001b[0mmlflow\u001b[0m\u001b[1;33m.\u001b[0m\u001b[0mset_experiment\u001b[0m\u001b[1;33m(\u001b[0m\u001b[1;34m\"Predict_Times\"\u001b[0m\u001b[1;33m)\u001b[0m\u001b[1;33m\u001b[0m\u001b[1;33m\u001b[0m\u001b[0m\n\u001b[0;32m      3\u001b[0m \u001b[1;32mfor\u001b[0m \u001b[0mmodel\u001b[0m \u001b[1;32min\u001b[0m \u001b[0mbest_params\u001b[0m\u001b[1;33m.\u001b[0m\u001b[0mkeys\u001b[0m\u001b[1;33m(\u001b[0m\u001b[1;33m)\u001b[0m\u001b[1;33m:\u001b[0m\u001b[1;33m\u001b[0m\u001b[1;33m\u001b[0m\u001b[0m\n\u001b[0;32m      4\u001b[0m     \u001b[0mmlflow\u001b[0m\u001b[1;33m.\u001b[0m\u001b[0mstart_run\u001b[0m\u001b[1;33m(\u001b[0m\u001b[0mrun_name\u001b[0m\u001b[1;33m=\u001b[0m\u001b[0mmodel\u001b[0m\u001b[1;33m)\u001b[0m\u001b[1;33m\u001b[0m\u001b[1;33m\u001b[0m\u001b[0m\n\u001b[0;32m      5\u001b[0m     \u001b[0mstart_fit\u001b[0m \u001b[1;33m=\u001b[0m \u001b[0mtime\u001b[0m\u001b[1;33m.\u001b[0m\u001b[0mtime\u001b[0m\u001b[1;33m(\u001b[0m\u001b[1;33m)\u001b[0m\u001b[1;33m\u001b[0m\u001b[1;33m\u001b[0m\u001b[0m\n",
      "\u001b[1;31mNameError\u001b[0m: name 'train_test_split' is not defined"
     ]
    }
   ],
   "source": [
    "data_train, data_test = train_test_split(data_norm_targets_energy, train_size=0.7, random_state=41)\n",
    "mlflow.set_experiment(\"Predict_Times\")\n",
    "for model in best_params.keys():\n",
    "    mlflow.start_run(run_name=model)\n",
    "    start_fit = time.time()\n",
    "    estimator = best_params[model]['estimator'](**best_params[model]['params']).fit(\\\n",
    "                                                            data_train.drop(columns=[target_energy_norm]), \n",
    "                                                            data_train[target_energy_norm])\n",
    "    fit_time = time.time() - start_fit\n",
    "    \n",
    "    start_predict = time.time()\n",
    "    estimator.predict(data_test.drop(columns=[target_energy_norm]))\n",
    "    predict_time = time.time() - start_predict\n",
    "    \n",
    "    mlflow.log_metric('Fit Time', fit_time)\n",
    "    mlflow.log_metric('Predict Time', predict_time)\n",
    "    \n",
    "    mlflow.end_run()\n",
    "    "
   ]
  },
  {
   "cell_type": "markdown",
   "id": "secret-occurrence",
   "metadata": {},
   "source": [
    "<a id='1_conclusion'></a>"
   ]
  },
  {
   "cell_type": "markdown",
   "id": "loving-birthday",
   "metadata": {},
   "source": [
    "# Conclusion"
   ]
  },
  {
   "cell_type": "markdown",
   "id": "empty-space",
   "metadata": {},
   "source": [
    "- Les méthodes ensemblistes sont plus efficaces que les méthodes linéaires pour ce cas d’usage\n",
    "- Le XGBoost apporte les meilleures performances\n",
    "- L’  « Energy Star Score » apporte de la précision non négligeable notamment pour la consommation électrique.\n",
    "\n",
    "#### Perspectives\n",
    "- Utiliser un Voting Regressor pour rassembler les modèles\n",
    "- Créer des variables pour mieux qualifier les consommations par quartiers\n",
    "- Appliquer le log à plus de variables\n",
    "- Faire un GridSearch plus poussé avec plus de paramètres. Notamment pour le XGBoost."
   ]
  },
  {
   "cell_type": "code",
   "execution_count": null,
   "id": "arbitrary-retrieval",
   "metadata": {},
   "outputs": [],
   "source": []
  }
 ],
 "metadata": {
  "kernelspec": {
   "display_name": "env_OC_P04",
   "language": "python",
   "name": "env_oc_p04"
  },
  "language_info": {
   "codemirror_mode": {
    "name": "ipython",
    "version": 3
   },
   "file_extension": ".py",
   "mimetype": "text/x-python",
   "name": "python",
   "nbconvert_exporter": "python",
   "pygments_lexer": "ipython3",
   "version": "3.8.5"
  }
 },
 "nbformat": 4,
 "nbformat_minor": 5
}
